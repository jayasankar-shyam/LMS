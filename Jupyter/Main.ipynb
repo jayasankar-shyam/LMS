{
 "cells": [
  {
   "cell_type": "code",
   "execution_count": 7,
   "id": "d1e4f867",
   "metadata": {},
   "outputs": [],
   "source": [
    "from tkinter import* \n",
    "from tkinter import messagebox\n",
    "import mysql.connector\n",
    "\n",
    "conn=mysql.connector.connect(host='localhost',password='pass',user='root',database='library')\n",
    "cur=conn.cursor()\n",
    "root=Tk()\n",
    "title=\"Login\"\n",
    "root.title(title)\n",
    "root.geometry(\"450x500+500+200\")\n",
    "root.configure(bg=\"\")\n",
    "root.resizable(False,False)\n",
    "\n",
    "# Frame of the GUI\n",
    "# img = PhotoImage(file=\"login.png\")\n",
    "Label(root, bg=\"white\").place(x=50, y=50)\n",
    "\n",
    "frame = Frame(root, width=350, height=350, bg=\"white\")\n",
    "frame.place(x=55, y=70)\n",
    "\n",
    "# Sign in Header\n",
    "heading = Label(frame, text=\"Sign in\", fg=\"#57a1f8\", bg=\"white\", font=(\"Microsoft Yahei Light\", 23, \"bold\"))\n",
    "heading.place(x=100, y=5)\n",
    "\n",
    "# User entry box\n",
    "\n",
    "def on_enter(e):\n",
    "    user.delete(0, \"end\")\n",
    "\n",
    "def on_leave(e):\n",
    "    name=user.get()\n",
    "    if name == \"\":\n",
    "        user.insert(0,\"Username\")\n",
    "\n",
    "user = Entry(frame, width=25, fg=\"black\", border=0, bg=\"white\", font=(\"Microsoft Yahei Light\",11))\n",
    "user.place(x=30, y=80)\n",
    "user.insert(0,\"Username\")\n",
    "user.bind(\"<FocusIn>\", on_enter)\n",
    "user.bind(\"<FocusOut>\", on_leave)\n",
    "\n",
    "Frame(frame, width=295, height=2, bg=\"black\").place(x=25, y=107)\n",
    "\n",
    "# Password entry box\n",
    "def on_enter(e):\n",
    "    code.delete(0, \"end\")\n",
    "\n",
    "def on_leave(e):\n",
    "    name=code.get()\n",
    "    if name == \"\":\n",
    "        code.insert(0,\"Password\")\n",
    "\n",
    "\n",
    "code = Entry(frame, width=25, fg=\"black\", border=0, bg=\"white\", font=(\"Microsoft Yahei Light\",11))\n",
    "code.place(x=30, y=150)\n",
    "code.insert(0,\"Password\")\n",
    "code.bind(\"<FocusIn>\", on_enter)\n",
    "code.bind(\"<FocusOut>\", on_leave)\n",
    "\n",
    "\n",
    "Frame(frame, width=295, height=2, bg=\"black\").place(x=25, y=177)\n",
    "\n",
    "# Sign in Button \n",
    "def sign_in():\n",
    "    username=user.get()\n",
    "    password=code.get()\n",
    "\n",
    "    sql = \"select * from users where username = %s and password = %s\"\n",
    "    cur.execute(sql, [(username), (password)])\n",
    "    results = cur.fetchall()\n",
    "    if results:\n",
    "        messagebox.showinfo(\"\", \"Login Success\")\n",
    "Button(frame, width=39, pady=7, text=\"Sign in\", bg=\"#57a1f8\", fg=\"white\", border=0, command=sign_in).place(x=35, y=204)\n",
    "label = Label(frame, text=\"Don't have an account?\", fg=\"black\", bg=\"white\", font=(\"Microsoft Yahei Light\",9))\n",
    "label.place(x=75, y=270)\n",
    "\n",
    "# Sign up Button\n",
    "sign_up = Button(frame, width=6, text=\"Sign up\", border=0, bg=\"white\", cursor=\"hand2\", fg=\"#57a1f8\")\n",
    "sign_up.place(x=215, y=270)\n",
    "\n",
    "root.mainloop()"
   ]
  },
  {
   "cell_type": "code",
   "execution_count": 4,
   "id": "d67f152f",
   "metadata": {},
   "outputs": [
    {
     "ename": "TclError",
     "evalue": "invalid command name \".!frame.!entry\"",
     "output_type": "error",
     "traceback": [
      "\u001b[1;31m---------------------------------------------------------------------------\u001b[0m",
      "\u001b[1;31mTclError\u001b[0m                                  Traceback (most recent call last)",
      "Cell \u001b[1;32mIn [4], line 1\u001b[0m\n\u001b[1;32m----> 1\u001b[0m \u001b[43msign_in\u001b[49m\u001b[43m(\u001b[49m\u001b[43m)\u001b[49m\u001b[38;5;241m.\u001b[39mresults\n",
      "Cell \u001b[1;32mIn [1], line 64\u001b[0m, in \u001b[0;36msign_in\u001b[1;34m()\u001b[0m\n\u001b[0;32m     63\u001b[0m \u001b[38;5;28;01mdef\u001b[39;00m \u001b[38;5;21msign_in\u001b[39m():\n\u001b[1;32m---> 64\u001b[0m     username\u001b[38;5;241m=\u001b[39m\u001b[43muser\u001b[49m\u001b[38;5;241;43m.\u001b[39;49m\u001b[43mget\u001b[49m\u001b[43m(\u001b[49m\u001b[43m)\u001b[49m\n\u001b[0;32m     65\u001b[0m     password\u001b[38;5;241m=\u001b[39mcode\u001b[38;5;241m.\u001b[39mget()\n\u001b[0;32m     67\u001b[0m     sql \u001b[38;5;241m=\u001b[39m \u001b[38;5;124m\"\u001b[39m\u001b[38;5;124mselect * from users where username = \u001b[39m\u001b[38;5;132;01m%s\u001b[39;00m\u001b[38;5;124m and password = \u001b[39m\u001b[38;5;132;01m%s\u001b[39;00m\u001b[38;5;124m\"\u001b[39m\n",
      "File \u001b[1;32mD:\\APPS\\Anaconda\\lib\\tkinter\\__init__.py:3043\u001b[0m, in \u001b[0;36mEntry.get\u001b[1;34m(self)\u001b[0m\n\u001b[0;32m   3041\u001b[0m \u001b[38;5;28;01mdef\u001b[39;00m \u001b[38;5;21mget\u001b[39m(\u001b[38;5;28mself\u001b[39m):\n\u001b[0;32m   3042\u001b[0m     \u001b[38;5;124;03m\"\"\"Return the text.\"\"\"\u001b[39;00m\n\u001b[1;32m-> 3043\u001b[0m     \u001b[38;5;28;01mreturn\u001b[39;00m \u001b[38;5;28;43mself\u001b[39;49m\u001b[38;5;241;43m.\u001b[39;49m\u001b[43mtk\u001b[49m\u001b[38;5;241;43m.\u001b[39;49m\u001b[43mcall\u001b[49m\u001b[43m(\u001b[49m\u001b[38;5;28;43mself\u001b[39;49m\u001b[38;5;241;43m.\u001b[39;49m\u001b[43m_w\u001b[49m\u001b[43m,\u001b[49m\u001b[43m \u001b[49m\u001b[38;5;124;43m'\u001b[39;49m\u001b[38;5;124;43mget\u001b[39;49m\u001b[38;5;124;43m'\u001b[39;49m\u001b[43m)\u001b[49m\n",
      "\u001b[1;31mTclError\u001b[0m: invalid command name \".!frame.!entry\""
     ]
    }
   ],
   "source": []
  },
  {
   "cell_type": "code",
   "execution_count": 5,
   "id": "dade63ea",
   "metadata": {},
   "outputs": [
    {
     "data": {
      "text/plain": [
       "[]"
      ]
     },
     "execution_count": 5,
     "metadata": {},
     "output_type": "execute_result"
    }
   ],
   "source": [
    "cur.fetchall()"
   ]
  },
  {
   "cell_type": "code",
   "execution_count": null,
   "id": "2f680442",
   "metadata": {},
   "outputs": [],
   "source": []
  }
 ],
 "metadata": {
  "kernelspec": {
   "display_name": "Python 3 (ipykernel)",
   "language": "python",
   "name": "python3"
  },
  "language_info": {
   "codemirror_mode": {
    "name": "ipython",
    "version": 3
   },
   "file_extension": ".py",
   "mimetype": "text/x-python",
   "name": "python",
   "nbconvert_exporter": "python",
   "pygments_lexer": "ipython3",
   "version": "3.9.13"
  }
 },
 "nbformat": 4,
 "nbformat_minor": 5
}
