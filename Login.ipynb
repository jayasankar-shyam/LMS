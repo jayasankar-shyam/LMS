{
 "cells": [
  {
   "cell_type": "code",
   "execution_count": null,
   "id": "51e105cc",
   "metadata": {},
   "outputs": [],
   "source": [
    "from tkinter import *\n",
    "from tkinter import messagebox\n",
    "\n",
    "def login():\n",
    "    username=entry1.get()\n",
    "    password=entry2.get()\n",
    "    \n",
    "    if(username==\"\" and password==\"\"):\n",
    "        messagebox.showinfo(\"\",\"Blank not allowed\")\n",
    "    elif(username==\"user\" and password==\"admin\"):\n",
    "        messagebox.showinfo(\"\",\"Login Sucessfull\")\n",
    "    else:\n",
    "        messagebox.showinfo(\"\",\"incorrect credentials\")\n",
    "            \n",
    "root=Tk()\n",
    "root.title(\"Login\")\n",
    "root.geometry(\"300x200\")\n",
    "\n",
    "global entry1\n",
    "global entry2\n",
    "\n",
    "Label(root,text=\"Username\").place(x=20,y=20)\n",
    "Label(root,text=\"Password\").place(x=20,y=70)\n",
    "\n",
    "entry1=Entry(root,bd=5)\n",
    "entry1.place(x=140,y=20)\n",
    "\n",
    "entry2=Entry(root,bd=5)\n",
    "entry2.place(x=140,y=70)\n",
    "\n",
    "Button(root,text=\"Login\",command=login,height=2,width=5,bd=1).place(x=100,y=120)\n",
    "\n",
    "root.mainloop()"
   ]
  },
  {
   "cell_type": "code",
   "execution_count": null,
   "id": "44eec8ca",
   "metadata": {},
   "outputs": [],
   "source": []
  }
 ],
 "metadata": {
  "kernelspec": {
   "display_name": "Python 3 (ipykernel)",
   "language": "python",
   "name": "python3"
  },
  "language_info": {
   "codemirror_mode": {
    "name": "ipython",
    "version": 3
   },
   "file_extension": ".py",
   "mimetype": "text/x-python",
   "name": "python",
   "nbconvert_exporter": "python",
   "pygments_lexer": "ipython3",
   "version": "3.9.12"
  }
 },
 "nbformat": 4,
 "nbformat_minor": 5
}
